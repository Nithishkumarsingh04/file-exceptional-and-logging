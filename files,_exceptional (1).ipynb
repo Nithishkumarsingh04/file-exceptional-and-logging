{
  "nbformat": 4,
  "nbformat_minor": 0,
  "metadata": {
    "colab": {
      "private_outputs": true,
      "provenance": []
    },
    "kernelspec": {
      "name": "python3",
      "display_name": "Python 3"
    },
    "language_info": {
      "name": "python"
    }
  },
  "cells": [
    {
      "cell_type": "markdown",
      "source": [
        "1. What is the difference between interpreted and compiled languages?\n",
        "Interpreted languages (like Python) execute code line-by-line using an interpreter.\n",
        "\n",
        "Compiled languages (like C/C++) are transformed into machine code before execution.\n",
        "\n",
        "2. What is exception handling in Python?\n",
        "It is a mechanism to catch and handle runtime errors to prevent crashes. Done using try, except, else, and finally.\n",
        "\n",
        "3. What is the purpose of the finally block in exception handling?\n",
        "It always executes after try and except, whether an exception occurred or not. Used for cleanup operations.\n",
        "\n",
        "try: x = 1 / 0 except ZeroDivisionError: print(\"Cannot divide by zero.\") finally: print(\"This always runs.\")\n",
        "\n",
        "4. What is logging in Python?\n",
        "Logging is the process of tracking events during program execution. Python’s logging module is used for this purpose.\n",
        "\n",
        "5. What is the significance of the del method in Python?\n",
        "It is a destructor method called when an object is about to be destroyed. Used for cleanup.\n",
        "\n",
        "6. What is the difference between import and from ... import in Python?\n",
        "import module: Imports the whole module. from module import function: Imports a specific part.\n",
        "\n",
        "print(math.sqrt(4)) from math import sqrt print(sqrt(4))\n",
        "\n",
        "7. How can you handle multiple exceptions in Python?\n",
        "\n",
        "some code except (ValueError, TypeError) as e: print(f\"Handled error: {e}\")\n",
        "\n",
        "8. What is the purpose of the with statement when handling files in Python?\n",
        "\n",
        "It ensures the file is properly closed after its block is executed.\n",
        "\n",
        "with open('file.txt', 'r') as file: data = file.read()\n",
        "\n",
        "9. What is the difference between multithreading and multiprocessing?\n",
        "Multithreading: Multiple threads in the same process; shared memory.\n",
        "\n",
        "Multiprocessing: Separate processes with their own memory; better for CPU-bound tasks.\n",
        "\n",
        "10. What are the advantages of using logging in a program?\n",
        "\n",
        "Easier debugging\n",
        "\n",
        "Persistent logs\n",
        "\n",
        "Adjustable verbosity (via levels like DEBUG, INFO)\n",
        "\n",
        "11. What is memory management in Python?\n",
        "\n",
        "Python uses automatic memory management, including reference counting and garbage collection to free unused memory.\n",
        "\n",
        "12. What are the basic steps involved in exception handling in Python?\n",
        "\n",
        "Try the code (try)\n",
        "\n",
        "Catch the error (except)\n",
        "\n",
        "Optionally handle other actions (else, finally)\n",
        "\n",
        "13. Why is memory management important in Python?\n",
        "It ensures optimal use of memory resources, prevents leaks, and improves performance.\n",
        "\n",
        "14. What is the role of try and except in exception handling?\n",
        "They define blocks of code to attempt and catch errors, preventing program crashes.\n",
        "\n",
        "15. How does Python's garbage collection system work?\n",
        "Python tracks object references and automatically deletes objects with zero references. It also detects circular references.\n",
        "\n",
        "16. What is the purpose of the else block in exception handling?\n",
        "It runs code if no exceptions are raised in the try block.\n",
        "\n",
        "try: print(\"No error\") except: print(\"Error\") else: print(\"Runs only if no error\")\n",
        "\n",
        "17. What are the common logging levels in Python?\n",
        "DEBUG, INFO, WARNING, ERROR, CRITICAL\n",
        "\n",
        "18. What is the difference between os.fork() and multiprocessing in Python?\n",
        "os.fork() creates a child process (Unix only).\n",
        "\n",
        "multiprocessing is cross-platform and provides a higher-level API.\n",
        "\n",
        "19. What is the importance of closing a file in Python?\n",
        "It releases system resources and ensures data is written to disk.\n",
        "\n",
        "20. What is the difference between file.read() and file.readline() in Python?\n",
        "read(): Reads the entire file.\n",
        "\n",
        "readline(): Reads a single line.\n",
        "\n",
        "21. What is the logging module in Python used for?\n",
        "To record messages about a program’s execution, helping in debugging and monitoring.\n",
        "\n",
        "22. What is the os module in Python used for in file handling?\n",
        "It provides functions to interact with the operating system, e.g., os.remove, os.rename, os.path.exists.\n",
        "\n",
        "23. What are the challenges associated with memory management in Python?\n",
        "Circular references\n",
        "\n",
        "Leaky code (long-lived objects)\n",
        "\n",
        "Inefficient use of large data structures\n",
        "\n",
        "24. How do you raise an exception manually in Python?\n",
        "raise ValueError(\"Custom error message\")\n",
        "\n",
        "25. Why is it important to use multithreading in certain applications?\n",
        "Useful for I/O-bound tasks (like network or file operations) to improve responsiveness without parallel CPU execution.\n"
      ],
      "metadata": {
        "id": "Jjn_-nbGy9aF"
      }
    },
    {
      "cell_type": "code",
      "execution_count": null,
      "metadata": {
        "id": "cBNCnOmNuVir"
      },
      "outputs": [],
      "source": [
        "# 1. How can you open a file for writing in Python and write a string to it?\n",
        "\n",
        "with open(\"example1.txt\", \"w\") as f:\n",
        "    f.write(\"Hello, this is a sample string.\\n\")"
      ]
    },
    {
      "cell_type": "code",
      "source": [
        "# 2. Write a Python program to read the contents of a file and print each line\n",
        "\n",
        "with open(\"example1.txt\", \"r\") as f:\n",
        "    for line in f:\n",
        "        print(line.strip())"
      ],
      "metadata": {
        "id": "wMLZw6Bpuo0e"
      },
      "execution_count": null,
      "outputs": []
    },
    {
      "cell_type": "code",
      "source": [
        "# 3. How would you handle a case where the file doesn't exist while trying to open it for reading\n",
        "\n",
        "try:\n",
        "    with open(\"nonexistent.txt\", \"r\") as f:\n",
        "        print(f.read())\n",
        "except FileNotFoundError:\n",
        "    print(\"File does not exist.\")"
      ],
      "metadata": {
        "id": "6mzaHFLsu2KZ"
      },
      "execution_count": null,
      "outputs": []
    },
    {
      "cell_type": "code",
      "source": [
        "# 4. Write a Python script that reads from one file and writes its content to another file\n",
        "\n",
        "with open(\"example1.txt\", \"r\") as source, open(\"copy.txt\", \"w\") as dest:\n",
        "    for line in source:\n",
        "        dest.write(line)"
      ],
      "metadata": {
        "id": "4Q_kCiykvBwb"
      },
      "execution_count": null,
      "outputs": []
    },
    {
      "cell_type": "code",
      "source": [
        "# 5. How would you catch and handle division by zero error in Python\n",
        "\n",
        "try:\n",
        "    result = 10 / 0\n",
        "except ZeroDivisionError:\n",
        "    print(\"Cannot divide by zero.\")"
      ],
      "metadata": {
        "id": "Fhm1K61BvKVz"
      },
      "execution_count": null,
      "outputs": []
    },
    {
      "cell_type": "code",
      "source": [
        "# 6.  Write a Python program that logs an error message to a log file when a division by zero exception occurs\n",
        "\n",
        "try:\n",
        "    x = 1 / 0\n",
        "except ZeroDivisionError as e:\n",
        "    logging.error(\"Division by zero occurred: %s\", e)"
      ],
      "metadata": {
        "id": "VYyr6rMZvTa5"
      },
      "execution_count": null,
      "outputs": []
    },
    {
      "cell_type": "code",
      "source": [
        "#7. How do you log information at different levels (INFO, ERROR, WARNING) in Python using the logging module\n",
        "\n",
        "logging.basicConfig(filename=\"log_levels.log\", level=logging.DEBUG)\n",
        "logging.info(\"This is an info message.\")\n",
        "logging.warning(\"This is a warning.\")\n",
        "logging.error(\"This is an error.\")"
      ],
      "metadata": {
        "id": "fexh4ptQvduG"
      },
      "execution_count": null,
      "outputs": []
    },
    {
      "cell_type": "code",
      "source": [
        "# 8. Write a program to handle a file opening error using exception handling.\n",
        "\n",
        "try:\n",
        "    with open(\"missing_file.txt\", \"r\") as f:\n",
        "        print(f.read())\n",
        "except IOError:\n",
        "    print(\"Could not open the file.\")"
      ],
      "metadata": {
        "id": "LAbXW2eBwByu"
      },
      "execution_count": null,
      "outputs": []
    },
    {
      "cell_type": "code",
      "source": [
        "# 9. F How can you read a file line by line and store its content in a list in Python\n",
        "\n",
        "with open(\"example1.txt\", \"r\") as f:\n",
        "    lines = f.readlines()\n",
        "print(lines)"
      ],
      "metadata": {
        "id": "zmFcv45YwJRK"
      },
      "execution_count": null,
      "outputs": []
    },
    {
      "cell_type": "code",
      "source": [
        "# 10. F How can you append data to an existing file in Python\n",
        "\n",
        "with open(\"example1.txt\", \"a\") as f:\n",
        "    f.write(\"Appending new line.\\n\")"
      ],
      "metadata": {
        "id": "dJPsI3iXwR74"
      },
      "execution_count": null,
      "outputs": []
    },
    {
      "cell_type": "code",
      "source": [
        "# 11. Write a Python program that uses a try-except block to handle an error when attempting to access a dictionary key that doesn't exist\n",
        "\n",
        "try:\n",
        "    print(data[\"a\"])\n",
        "except KeyError:\n",
        "    print(\"Key not found.\")\n"
      ],
      "metadata": {
        "id": "LqxqEZCqwZlM"
      },
      "execution_count": null,
      "outputs": []
    },
    {
      "cell_type": "code",
      "source": [
        "# 12.  Write a program that demonstrates using multiple except blocks to handle different types of exceptions\n",
        "\n",
        "try:\n",
        "    lst = [1]\n",
        "    print(lst[5])\n",
        "    print(data[\"c\"])\n",
        "except IndexError:\n",
        "    print(\"List index error.\")\n",
        "except KeyError:\n",
        "    print(\"Dictionary key error.\")"
      ],
      "metadata": {
        "id": "jdqZhmAVxTHn"
      },
      "execution_count": null,
      "outputs": []
    },
    {
      "cell_type": "code",
      "source": [
        "# 13.  How would you check if a file exists before attempting to read it in Python\n",
        "\n",
        "if os.path.exists(\"example1.txt\"):\n",
        "    print(\"File exists.\")"
      ],
      "metadata": {
        "id": "BFXogoTnxbI4"
      },
      "execution_count": null,
      "outputs": []
    },
    {
      "cell_type": "code",
      "source": [
        "# 14. Write a program that uses the logging module to log both informational and error messages\n",
        "\n",
        "logging.basicConfig(filename=\"both_logs.log\", level=logging.DEBUG)\n",
        "logging.info(\"Script started\")\n",
        "try:\n",
        "    x = 10 / 0\n",
        "except ZeroDivisionError:\n",
        "    logging.error(\"Error occurred\")"
      ],
      "metadata": {
        "id": "O-Pk4tjCxq21"
      },
      "execution_count": null,
      "outputs": []
    },
    {
      "cell_type": "code",
      "source": [
        "# 15. Write a Python program that prints the content of a file and handles the case when the file is empty\n",
        "\n",
        "with open(\"example1.txt\", \"r\") as f:\n",
        "    content = f.read()\n",
        "    if not content:\n",
        "        print(\"File is empty.\")\n",
        "    else:\n",
        "        print(content)"
      ],
      "metadata": {
        "id": "58bKCWunxzBy"
      },
      "execution_count": null,
      "outputs": []
    },
    {
      "cell_type": "code",
      "source": [
        "# 16. F Demonstrate how to use memory profiling to check the memory usage of a small program\n",
        "\n",
        "tracemalloc.start()\n",
        "sample_list = [i for i in range(1000)]\n",
        "current, peak = tracemalloc.get_traced_memory()\n",
        "print(f\"Current memory usage is {current / 10**6}MB; Peak was {peak / 10**6}MB\")\n",
        "tracemalloc.stop()"
      ],
      "metadata": {
        "id": "NZS4zH3Px55r"
      },
      "execution_count": null,
      "outputs": []
    },
    {
      "cell_type": "code",
      "source": [
        "# 17. Write a Python program to create and write a list of numbers to a file, one number per line\n",
        "\n",
        "with open(\"numbers.txt\", \"w\") as f:\n",
        "    for i in range(10):\n",
        "        f.write(f\"{i}\\n\")"
      ],
      "metadata": {
        "id": "neOQDdwuyBkT"
      },
      "execution_count": null,
      "outputs": []
    },
    {
      "cell_type": "code",
      "source": [
        "# 18. How would you implement a basic logging setup that logs to a file with rotation after 1MB\n",
        "\n",
        "handler = RotatingFileHandler(\"rotating_log.log\", maxBytes=1_000_000, backupCount=5)\n",
        "logger = logging.getLogger(\"RotatingLogger\")\n",
        "logger.setLevel(logging.INFO)\n",
        "logger.addHandler(handler)\n",
        "logger.info(\"This is a log message with rotation.\")\n"
      ],
      "metadata": {
        "id": "BSyQzHZtyIaz"
      },
      "execution_count": null,
      "outputs": []
    },
    {
      "cell_type": "code",
      "source": [
        "# 19. F Write a program that handles both IndexError and KeyError using a try-except block\n",
        "\n",
        "try:\n",
        "    sample = [1, 2]\n",
        "    print(sample[5])\n",
        "    d = {}\n",
        "    print(d['key'])\n",
        "except (IndexError, KeyError) as e:\n",
        "    print(f\"Error: {e}\")"
      ],
      "metadata": {
        "id": "4lwdqutayU8h"
      },
      "execution_count": null,
      "outputs": []
    },
    {
      "cell_type": "code",
      "source": [
        "# 20. How would you open a file and read its contents using a context manager in Python\n",
        "\n",
        "with open(\"example1.txt\", \"r\") as f:\n",
        "    print(f.read())"
      ],
      "metadata": {
        "id": "lZ9UuG9Wyb4B"
      },
      "execution_count": null,
      "outputs": []
    },
    {
      "cell_type": "code",
      "source": [
        "# 21. Write a Python program that reads a file and prints the number of occurrences of a specific word\n",
        "\n",
        "word_to_find = \"sample\"\n",
        "with open(\"example1.txt\", \"r\") as f:\n",
        "    content = f.read()\n",
        "    count = content.count(word_to_find)\n",
        "    print(f\"'{word_to_find}' found {count} times.\")"
      ],
      "metadata": {
        "id": "pZoRJbDCyjhH"
      },
      "execution_count": null,
      "outputs": []
    },
    {
      "cell_type": "code",
      "source": [
        "# 22. How can you check if a file is empty before attempting to read its contents\n",
        "\n",
        "if os.path.getsize(\"example1.txt\") == 0:\n",
        "    print(\"File is empty.\")\n",
        "else:\n",
        "    with open(\"example1.txt\", \"r\") as f:\n",
        "        print(f.read())"
      ],
      "metadata": {
        "id": "ufbVyad2yrGy"
      },
      "execution_count": null,
      "outputs": []
    },
    {
      "cell_type": "code",
      "source": [
        "# 23.  Write a Python program that writes to a log file when an error occurs during file handling.\n",
        "\n",
        "try:\n",
        "    with open(\"maybe_missing.txt\", \"r\") as f:\n",
        "        print(f.read())\n",
        "except Exception as e:\n",
        "    logging.error(\"File handling error: %s\", e)"
      ],
      "metadata": {
        "id": "KpP9RX8DyzGt"
      },
      "execution_count": null,
      "outputs": []
    }
  ]
}